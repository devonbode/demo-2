{
 "cells": [
  {
   "cell_type": "markdown",
   "metadata": {},
   "source": [
    "# **Demo 2**\n",
    "\n",
    "Dataset: [Harry Potter Dataset](https://www.kaggle.com/datasets/adnananam/harry-potter-dataset/data)\n",
    "\n",
    "Selection Rationale: I chose this dataset because I have loved Harry Potter since I was a kid and found the information interesting."
   ]
  },
  {
   "cell_type": "markdown",
   "metadata": {},
   "source": [
    "---"
   ]
  },
  {
   "cell_type": "markdown",
   "metadata": {},
   "source": [
    "### Analysis Objectives & Plan\n",
    "1. Correlation between number of pages and amount of copies sold worldwide\n",
    "- Input column names into .corr method\n",
    "- Import seaborn to create a graph to display the correlation coefficient \n",
    "- Import pages and copies sold worldwide as x and y variables into the sns.regplot function to get a scatter plot  \n",
    "2. How much of the fanbase is outside the UK - amount and percentage of copies sold in countries other than UK \n",
    "- Subtract Copies Sold in UK from Copies Sold WorldWide\n",
    "- Create new column on dataframe for these values and add them in\n",
    "- Check df to ensure it prints correctly\n",
    "- Find what percentage of total copies sold were sold in countries other than UK, and make this a column\n",
    "3. Visualise the trend of awards won for each book over the series\n",
    "- Input column names for the x and y axis in the sns.barplot function \n",
    "- Rotate the x-axis variable labels by 90 degrees so that they don't overlap eachother \n",
    "- Print the graph"
   ]
  },
  {
   "cell_type": "markdown",
   "metadata": {},
   "source": [
    "Sounds like a solid plan - let's see it!"
   ]
  },
  {
   "cell_type": "markdown",
   "metadata": {},
   "source": [
    "---"
   ]
  },
  {
   "cell_type": "markdown",
   "metadata": {},
   "source": [
    "### Import Libraries "
   ]
  },
  {
   "cell_type": "code",
   "execution_count": 1,
   "metadata": {},
   "outputs": [],
   "source": [
    "# import necessary libraries \n",
    "\n",
    "import pandas as pd "
   ]
  },
  {
   "cell_type": "markdown",
   "metadata": {},
   "source": [
    "### Import and Explore Data\n",
    "- Import dataset and assign to a variable names `df`\n",
    "- Print/output the following (as pythonically as possible):\n",
    "    - DataFrame's shape\n",
    "    - Column names\n",
    "    - First 5 rows\n"
   ]
  },
  {
   "cell_type": "code",
   "execution_count": 3,
   "metadata": {},
   "outputs": [],
   "source": [
    "# import data from csv file\n",
    "\n",
    "df = pd.read_csv('Harry_Potter_Scraped_Dataset.csv')"
   ]
  },
  {
   "cell_type": "code",
   "execution_count": 4,
   "metadata": {},
   "outputs": [
    {
     "data": {
      "text/html": [
       "<div>\n",
       "<style scoped>\n",
       "    .dataframe tbody tr th:only-of-type {\n",
       "        vertical-align: middle;\n",
       "    }\n",
       "\n",
       "    .dataframe tbody tr th {\n",
       "        vertical-align: top;\n",
       "    }\n",
       "\n",
       "    .dataframe thead th {\n",
       "        text-align: right;\n",
       "    }\n",
       "</style>\n",
       "<table border=\"1\" class=\"dataframe\">\n",
       "  <thead>\n",
       "    <tr style=\"text-align: right;\">\n",
       "      <th></th>\n",
       "      <th>Book Name</th>\n",
       "      <th>Copies Sold in UK</th>\n",
       "      <th>Copies Sold WorldWide</th>\n",
       "      <th>Publish Date</th>\n",
       "      <th>Publish Month</th>\n",
       "      <th>Publish Year</th>\n",
       "      <th>Pages</th>\n",
       "      <th>Words</th>\n",
       "      <th>Audiobook</th>\n",
       "      <th>Total Awards Won</th>\n",
       "    </tr>\n",
       "  </thead>\n",
       "  <tbody>\n",
       "    <tr>\n",
       "      <th>0</th>\n",
       "      <td>Harry Potter and the Sorcerer’s Stone</td>\n",
       "      <td>4.2</td>\n",
       "      <td>120</td>\n",
       "      <td>26</td>\n",
       "      <td>June</td>\n",
       "      <td>1997</td>\n",
       "      <td>223</td>\n",
       "      <td>76,944</td>\n",
       "      <td>9 hrs and 33 mins</td>\n",
       "      <td>8</td>\n",
       "    </tr>\n",
       "    <tr>\n",
       "      <th>1</th>\n",
       "      <td>Harry Potter and the Chamber of Secrets</td>\n",
       "      <td>3.5</td>\n",
       "      <td>77</td>\n",
       "      <td>2</td>\n",
       "      <td>July</td>\n",
       "      <td>1998</td>\n",
       "      <td>251</td>\n",
       "      <td>85,141</td>\n",
       "      <td>11 hrs and 5 mins</td>\n",
       "      <td>5</td>\n",
       "    </tr>\n",
       "    <tr>\n",
       "      <th>2</th>\n",
       "      <td>Harry Potter and the Prisoner of Azkaban</td>\n",
       "      <td>3.4</td>\n",
       "      <td>65</td>\n",
       "      <td>8</td>\n",
       "      <td>July</td>\n",
       "      <td>1999</td>\n",
       "      <td>317</td>\n",
       "      <td>107,253</td>\n",
       "      <td>13 hrs and 10 mins</td>\n",
       "      <td>3</td>\n",
       "    </tr>\n",
       "    <tr>\n",
       "      <th>3</th>\n",
       "      <td>Harry Potter and the Goblet of Fire</td>\n",
       "      <td>3.6</td>\n",
       "      <td>65</td>\n",
       "      <td>8</td>\n",
       "      <td>July</td>\n",
       "      <td>2000</td>\n",
       "      <td>636</td>\n",
       "      <td>190,637</td>\n",
       "      <td>22 hrs and 17 mins</td>\n",
       "      <td>1</td>\n",
       "    </tr>\n",
       "    <tr>\n",
       "      <th>4</th>\n",
       "      <td>Harry Potter and the Order of the Phoenix</td>\n",
       "      <td>4.2</td>\n",
       "      <td>65</td>\n",
       "      <td>21</td>\n",
       "      <td>June</td>\n",
       "      <td>2003</td>\n",
       "      <td>766</td>\n",
       "      <td>257,045</td>\n",
       "      <td>30 hrs and 18 mins</td>\n",
       "      <td>1</td>\n",
       "    </tr>\n",
       "    <tr>\n",
       "      <th>5</th>\n",
       "      <td>Harry Potter and the Half-blood Prince</td>\n",
       "      <td>4.1</td>\n",
       "      <td>65</td>\n",
       "      <td>16</td>\n",
       "      <td>July</td>\n",
       "      <td>2005</td>\n",
       "      <td>607</td>\n",
       "      <td>168,923</td>\n",
       "      <td>21 hrs and 27 mins</td>\n",
       "      <td>1</td>\n",
       "    </tr>\n",
       "    <tr>\n",
       "      <th>6</th>\n",
       "      <td>Harry Potter and the Deathly Hallows</td>\n",
       "      <td>4.5</td>\n",
       "      <td>65</td>\n",
       "      <td>21</td>\n",
       "      <td>July</td>\n",
       "      <td>2007</td>\n",
       "      <td>607</td>\n",
       "      <td>198,227</td>\n",
       "      <td>24 hrs</td>\n",
       "      <td>0</td>\n",
       "    </tr>\n",
       "  </tbody>\n",
       "</table>\n",
       "</div>"
      ],
      "text/plain": [
       "                                   Book Name  Copies Sold in UK  \\\n",
       "0      Harry Potter and the Sorcerer’s Stone                4.2   \n",
       "1    Harry Potter and the Chamber of Secrets                3.5   \n",
       "2   Harry Potter and the Prisoner of Azkaban                3.4   \n",
       "3        Harry Potter and the Goblet of Fire                3.6   \n",
       "4  Harry Potter and the Order of the Phoenix                4.2   \n",
       "5     Harry Potter and the Half-blood Prince                4.1   \n",
       "6       Harry Potter and the Deathly Hallows                4.5   \n",
       "\n",
       "   Copies Sold WorldWide  Publish Date Publish Month  Publish Year  Pages  \\\n",
       "0                    120            26          June          1997    223   \n",
       "1                     77             2          July          1998    251   \n",
       "2                     65             8          July          1999    317   \n",
       "3                     65             8          July          2000    636   \n",
       "4                     65            21          June          2003    766   \n",
       "5                     65            16          July          2005    607   \n",
       "6                     65            21          July          2007    607   \n",
       "\n",
       "     Words           Audiobook  Total Awards Won  \n",
       "0   76,944   9 hrs and 33 mins                 8  \n",
       "1   85,141   11 hrs and 5 mins                 5  \n",
       "2  107,253  13 hrs and 10 mins                 3  \n",
       "3  190,637  22 hrs and 17 mins                 1  \n",
       "4  257,045  30 hrs and 18 mins                 1  \n",
       "5  168,923  21 hrs and 27 mins                 1  \n",
       "6  198,227              24 hrs                 0  "
      ]
     },
     "execution_count": 4,
     "metadata": {},
     "output_type": "execute_result"
    }
   ],
   "source": [
    "df"
   ]
  },
  {
   "cell_type": "markdown",
   "metadata": {},
   "source": [
    "Always helpful to add a comment to indicate the purpose of the code."
   ]
  },
  {
   "cell_type": "code",
   "execution_count": 4,
   "metadata": {},
   "outputs": [
    {
     "name": "stdout",
     "output_type": "stream",
     "text": [
      "(7, 10)\n",
      "Index(['Book Name', 'Copies Sold in UK', 'Copies Sold WorldWide',\n",
      "       'Publish Date', 'Publish Month', 'Publish Year', 'Pages', 'Words',\n",
      "       'Audiobook', 'Total Awards Won'],\n",
      "      dtype='object')\n"
     ]
    }
   ],
   "source": [
    "# df shape\n",
    "\n",
    "print(df.shape)\n",
    "\n",
    "# df columns \n",
    "\n",
    "print(df.columns)"
   ]
  },
  {
   "cell_type": "code",
   "execution_count": 5,
   "metadata": {},
   "outputs": [
    {
     "data": {
      "text/html": [
       "<div>\n",
       "<style scoped>\n",
       "    .dataframe tbody tr th:only-of-type {\n",
       "        vertical-align: middle;\n",
       "    }\n",
       "\n",
       "    .dataframe tbody tr th {\n",
       "        vertical-align: top;\n",
       "    }\n",
       "\n",
       "    .dataframe thead th {\n",
       "        text-align: right;\n",
       "    }\n",
       "</style>\n",
       "<table border=\"1\" class=\"dataframe\">\n",
       "  <thead>\n",
       "    <tr style=\"text-align: right;\">\n",
       "      <th></th>\n",
       "      <th>Book Name</th>\n",
       "      <th>Copies Sold in UK</th>\n",
       "      <th>Copies Sold WorldWide</th>\n",
       "      <th>Publish Date</th>\n",
       "      <th>Publish Month</th>\n",
       "      <th>Publish Year</th>\n",
       "      <th>Pages</th>\n",
       "      <th>Words</th>\n",
       "      <th>Audiobook</th>\n",
       "      <th>Total Awards Won</th>\n",
       "    </tr>\n",
       "  </thead>\n",
       "  <tbody>\n",
       "    <tr>\n",
       "      <th>0</th>\n",
       "      <td>Harry Potter and the Sorcerer’s Stone</td>\n",
       "      <td>4.2</td>\n",
       "      <td>120</td>\n",
       "      <td>26</td>\n",
       "      <td>June</td>\n",
       "      <td>1997</td>\n",
       "      <td>223</td>\n",
       "      <td>76,944</td>\n",
       "      <td>9 hrs and 33 mins</td>\n",
       "      <td>8</td>\n",
       "    </tr>\n",
       "    <tr>\n",
       "      <th>1</th>\n",
       "      <td>Harry Potter and the Chamber of Secrets</td>\n",
       "      <td>3.5</td>\n",
       "      <td>77</td>\n",
       "      <td>2</td>\n",
       "      <td>July</td>\n",
       "      <td>1998</td>\n",
       "      <td>251</td>\n",
       "      <td>85,141</td>\n",
       "      <td>11 hrs and 5 mins</td>\n",
       "      <td>5</td>\n",
       "    </tr>\n",
       "    <tr>\n",
       "      <th>2</th>\n",
       "      <td>Harry Potter and the Prisoner of Azkaban</td>\n",
       "      <td>3.4</td>\n",
       "      <td>65</td>\n",
       "      <td>8</td>\n",
       "      <td>July</td>\n",
       "      <td>1999</td>\n",
       "      <td>317</td>\n",
       "      <td>107,253</td>\n",
       "      <td>13 hrs and 10 mins</td>\n",
       "      <td>3</td>\n",
       "    </tr>\n",
       "    <tr>\n",
       "      <th>3</th>\n",
       "      <td>Harry Potter and the Goblet of Fire</td>\n",
       "      <td>3.6</td>\n",
       "      <td>65</td>\n",
       "      <td>8</td>\n",
       "      <td>July</td>\n",
       "      <td>2000</td>\n",
       "      <td>636</td>\n",
       "      <td>190,637</td>\n",
       "      <td>22 hrs and 17 mins</td>\n",
       "      <td>1</td>\n",
       "    </tr>\n",
       "    <tr>\n",
       "      <th>4</th>\n",
       "      <td>Harry Potter and the Order of the Phoenix</td>\n",
       "      <td>4.2</td>\n",
       "      <td>65</td>\n",
       "      <td>21</td>\n",
       "      <td>June</td>\n",
       "      <td>2003</td>\n",
       "      <td>766</td>\n",
       "      <td>257,045</td>\n",
       "      <td>30 hrs and 18 mins</td>\n",
       "      <td>1</td>\n",
       "    </tr>\n",
       "  </tbody>\n",
       "</table>\n",
       "</div>"
      ],
      "text/plain": [
       "                                   Book Name  Copies Sold in UK  \\\n",
       "0      Harry Potter and the Sorcerer’s Stone                4.2   \n",
       "1    Harry Potter and the Chamber of Secrets                3.5   \n",
       "2   Harry Potter and the Prisoner of Azkaban                3.4   \n",
       "3        Harry Potter and the Goblet of Fire                3.6   \n",
       "4  Harry Potter and the Order of the Phoenix                4.2   \n",
       "\n",
       "   Copies Sold WorldWide  Publish Date Publish Month  Publish Year  Pages  \\\n",
       "0                    120            26          June          1997    223   \n",
       "1                     77             2          July          1998    251   \n",
       "2                     65             8          July          1999    317   \n",
       "3                     65             8          July          2000    636   \n",
       "4                     65            21          June          2003    766   \n",
       "\n",
       "     Words           Audiobook  Total Awards Won  \n",
       "0   76,944   9 hrs and 33 mins                 8  \n",
       "1   85,141   11 hrs and 5 mins                 5  \n",
       "2  107,253  13 hrs and 10 mins                 3  \n",
       "3  190,637  22 hrs and 17 mins                 1  \n",
       "4  257,045  30 hrs and 18 mins                 1  "
      ]
     },
     "execution_count": 5,
     "metadata": {},
     "output_type": "execute_result"
    }
   ],
   "source": [
    "# output first 5 rows \n",
    "\n",
    "df.head()"
   ]
  },
  {
   "cell_type": "markdown",
   "metadata": {},
   "source": [
    "Import and outputs here look good."
   ]
  },
  {
   "cell_type": "markdown",
   "metadata": {},
   "source": [
    "---"
   ]
  },
  {
   "cell_type": "markdown",
   "metadata": {},
   "source": [
    "##### Correlation between number of pages and amount of copies sold worldwide"
   ]
  },
  {
   "cell_type": "markdown",
   "metadata": {},
   "source": [
    "It would be helpful if the steps below had more explicit comments (that is, commenting what the code is doing as you code so it's easier to follow along)"
   ]
  },
  {
   "cell_type": "code",
   "execution_count": 6,
   "metadata": {},
   "outputs": [
    {
     "data": {
      "text/html": [
       "<div>\n",
       "<style scoped>\n",
       "    .dataframe tbody tr th:only-of-type {\n",
       "        vertical-align: middle;\n",
       "    }\n",
       "\n",
       "    .dataframe tbody tr th {\n",
       "        vertical-align: top;\n",
       "    }\n",
       "\n",
       "    .dataframe thead th {\n",
       "        text-align: right;\n",
       "    }\n",
       "</style>\n",
       "<table border=\"1\" class=\"dataframe\">\n",
       "  <thead>\n",
       "    <tr style=\"text-align: right;\">\n",
       "      <th></th>\n",
       "      <th>Pages</th>\n",
       "      <th>Copies Sold WorldWide</th>\n",
       "    </tr>\n",
       "  </thead>\n",
       "  <tbody>\n",
       "    <tr>\n",
       "      <th>Pages</th>\n",
       "      <td>1.000000</td>\n",
       "      <td>-0.647904</td>\n",
       "    </tr>\n",
       "    <tr>\n",
       "      <th>Copies Sold WorldWide</th>\n",
       "      <td>-0.647904</td>\n",
       "      <td>1.000000</td>\n",
       "    </tr>\n",
       "  </tbody>\n",
       "</table>\n",
       "</div>"
      ],
      "text/plain": [
       "                          Pages  Copies Sold WorldWide\n",
       "Pages                  1.000000              -0.647904\n",
       "Copies Sold WorldWide -0.647904               1.000000"
      ]
     },
     "execution_count": 6,
     "metadata": {},
     "output_type": "execute_result"
    }
   ],
   "source": [
    "# step 1\n",
    "\n",
    "df[['Pages', 'Copies Sold WorldWide']].corr()"
   ]
  },
  {
   "cell_type": "code",
   "execution_count": 5,
   "metadata": {},
   "outputs": [],
   "source": [
    "# step 2\n",
    "\n",
    "import seaborn as sns"
   ]
  },
  {
   "cell_type": "markdown",
   "metadata": {},
   "source": [
    "It is best/common practice to import all libraries and packages in the same code cell at the start of the file."
   ]
  },
  {
   "cell_type": "code",
   "execution_count": 7,
   "metadata": {},
   "outputs": [
    {
     "data": {
      "image/png": "[encoded data removed]",
      "text/plain": [
       "<Figure size 640x480 with 1 Axes>"
      ]
     },
     "metadata": {},
     "output_type": "display_data"
    }
   ],
   "source": [
    "# step 3\n",
    "\n",
    "import matplotlib.pyplot as plt\n",
    "\n",
    "sns.regplot(x='Pages', y='Copies Sold WorldWide', data=df)\n",
    "\n",
    "plt.show()"
   ]
  },
  {
   "cell_type": "markdown",
   "metadata": {},
   "source": [
    "Plot looks good!"
   ]
  },
  {
   "cell_type": "markdown",
   "metadata": {},
   "source": [
    "##### Objective 2"
   ]
  },
  {
   "cell_type": "code",
   "execution_count": null,
   "metadata": {},
   "outputs": [
    {
     "data": {
      "text/plain": [
       "0    115.8\n",
       "1     73.5\n",
       "2     61.6\n",
       "3     61.4\n",
       "4     60.8\n",
       "5     60.9\n",
       "6     60.5\n",
       "dtype: float64"
      ]
     },
     "execution_count": 47,
     "metadata": {},
     "output_type": "execute_result"
    }
   ],
   "source": [
    "# step 1\n",
    "\n",
    "df['Copies Sold WorldWide'] - df['Copies Sold in UK']"
   ]
  },
  {
   "cell_type": "code",
   "execution_count": 12,
   "metadata": {},
   "outputs": [
    {
     "data": {
      "text/html": [
       "<div>\n",
       "<style scoped>\n",
       "    .dataframe tbody tr th:only-of-type {\n",
       "        vertical-align: middle;\n",
       "    }\n",
       "\n",
       "    .dataframe tbody tr th {\n",
       "        vertical-align: top;\n",
       "    }\n",
       "\n",
       "    .dataframe thead th {\n",
       "        text-align: right;\n",
       "    }\n",
       "</style>\n",
       "<table border=\"1\" class=\"dataframe\">\n",
       "  <thead>\n",
       "    <tr style=\"text-align: right;\">\n",
       "      <th></th>\n",
       "      <th>Book Name</th>\n",
       "      <th>Copies Sold in UK</th>\n",
       "      <th>Copies Sold WorldWide</th>\n",
       "      <th>Publish Date</th>\n",
       "      <th>Publish Month</th>\n",
       "      <th>Publish Year</th>\n",
       "      <th>Pages</th>\n",
       "      <th>Words</th>\n",
       "      <th>Audiobook</th>\n",
       "      <th>Total Awards Won</th>\n",
       "      <th>Copies Sold in Countries Other Than UK</th>\n",
       "    </tr>\n",
       "  </thead>\n",
       "  <tbody>\n",
       "    <tr>\n",
       "      <th>0</th>\n",
       "      <td>Harry Potter and the Sorcerer’s Stone</td>\n",
       "      <td>4.2</td>\n",
       "      <td>120</td>\n",
       "      <td>26</td>\n",
       "      <td>June</td>\n",
       "      <td>1997</td>\n",
       "      <td>223</td>\n",
       "      <td>76,944</td>\n",
       "      <td>9 hrs and 33 mins</td>\n",
       "      <td>8</td>\n",
       "      <td>115.8</td>\n",
       "    </tr>\n",
       "    <tr>\n",
       "      <th>1</th>\n",
       "      <td>Harry Potter and the Chamber of Secrets</td>\n",
       "      <td>3.5</td>\n",
       "      <td>77</td>\n",
       "      <td>2</td>\n",
       "      <td>July</td>\n",
       "      <td>1998</td>\n",
       "      <td>251</td>\n",
       "      <td>85,141</td>\n",
       "      <td>11 hrs and 5 mins</td>\n",
       "      <td>5</td>\n",
       "      <td>73.5</td>\n",
       "    </tr>\n",
       "    <tr>\n",
       "      <th>2</th>\n",
       "      <td>Harry Potter and the Prisoner of Azkaban</td>\n",
       "      <td>3.4</td>\n",
       "      <td>65</td>\n",
       "      <td>8</td>\n",
       "      <td>July</td>\n",
       "      <td>1999</td>\n",
       "      <td>317</td>\n",
       "      <td>107,253</td>\n",
       "      <td>13 hrs and 10 mins</td>\n",
       "      <td>3</td>\n",
       "      <td>61.6</td>\n",
       "    </tr>\n",
       "    <tr>\n",
       "      <th>3</th>\n",
       "      <td>Harry Potter and the Goblet of Fire</td>\n",
       "      <td>3.6</td>\n",
       "      <td>65</td>\n",
       "      <td>8</td>\n",
       "      <td>July</td>\n",
       "      <td>2000</td>\n",
       "      <td>636</td>\n",
       "      <td>190,637</td>\n",
       "      <td>22 hrs and 17 mins</td>\n",
       "      <td>1</td>\n",
       "      <td>61.4</td>\n",
       "    </tr>\n",
       "    <tr>\n",
       "      <th>4</th>\n",
       "      <td>Harry Potter and the Order of the Phoenix</td>\n",
       "      <td>4.2</td>\n",
       "      <td>65</td>\n",
       "      <td>21</td>\n",
       "      <td>June</td>\n",
       "      <td>2003</td>\n",
       "      <td>766</td>\n",
       "      <td>257,045</td>\n",
       "      <td>30 hrs and 18 mins</td>\n",
       "      <td>1</td>\n",
       "      <td>60.8</td>\n",
       "    </tr>\n",
       "    <tr>\n",
       "      <th>5</th>\n",
       "      <td>Harry Potter and the Half-blood Prince</td>\n",
       "      <td>4.1</td>\n",
       "      <td>65</td>\n",
       "      <td>16</td>\n",
       "      <td>July</td>\n",
       "      <td>2005</td>\n",
       "      <td>607</td>\n",
       "      <td>168,923</td>\n",
       "      <td>21 hrs and 27 mins</td>\n",
       "      <td>1</td>\n",
       "      <td>60.9</td>\n",
       "    </tr>\n",
       "    <tr>\n",
       "      <th>6</th>\n",
       "      <td>Harry Potter and the Deathly Hallows</td>\n",
       "      <td>4.5</td>\n",
       "      <td>65</td>\n",
       "      <td>21</td>\n",
       "      <td>July</td>\n",
       "      <td>2007</td>\n",
       "      <td>607</td>\n",
       "      <td>198,227</td>\n",
       "      <td>24 hrs</td>\n",
       "      <td>0</td>\n",
       "      <td>60.5</td>\n",
       "    </tr>\n",
       "  </tbody>\n",
       "</table>\n",
       "</div>"
      ],
      "text/plain": [
       "                                   Book Name  Copies Sold in UK  \\\n",
       "0      Harry Potter and the Sorcerer’s Stone                4.2   \n",
       "1    Harry Potter and the Chamber of Secrets                3.5   \n",
       "2   Harry Potter and the Prisoner of Azkaban                3.4   \n",
       "3        Harry Potter and the Goblet of Fire                3.6   \n",
       "4  Harry Potter and the Order of the Phoenix                4.2   \n",
       "5     Harry Potter and the Half-blood Prince                4.1   \n",
       "6       Harry Potter and the Deathly Hallows                4.5   \n",
       "\n",
       "   Copies Sold WorldWide  Publish Date Publish Month  Publish Year  Pages  \\\n",
       "0                    120            26          June          1997    223   \n",
       "1                     77             2          July          1998    251   \n",
       "2                     65             8          July          1999    317   \n",
       "3                     65             8          July          2000    636   \n",
       "4                     65            21          June          2003    766   \n",
       "5                     65            16          July          2005    607   \n",
       "6                     65            21          July          2007    607   \n",
       "\n",
       "     Words           Audiobook  Total Awards Won  \\\n",
       "0   76,944   9 hrs and 33 mins                 8   \n",
       "1   85,141   11 hrs and 5 mins                 5   \n",
       "2  107,253  13 hrs and 10 mins                 3   \n",
       "3  190,637  22 hrs and 17 mins                 1   \n",
       "4  257,045  30 hrs and 18 mins                 1   \n",
       "5  168,923  21 hrs and 27 mins                 1   \n",
       "6  198,227              24 hrs                 0   \n",
       "\n",
       "   Copies Sold in Countries Other Than UK  \n",
       "0                                   115.8  \n",
       "1                                    73.5  \n",
       "2                                    61.6  \n",
       "3                                    61.4  \n",
       "4                                    60.8  \n",
       "5                                    60.9  \n",
       "6                                    60.5  "
      ]
     },
     "execution_count": 12,
     "metadata": {},
     "output_type": "execute_result"
    }
   ],
   "source": [
    "# step 2\n",
    "\n",
    "df['Copies Sold in Countries Other Than UK'] = df['Copies Sold WorldWide'] - df['Copies Sold in UK']\n",
    "\n",
    "df"
   ]
  },
  {
   "cell_type": "code",
   "execution_count": 13,
   "metadata": {},
   "outputs": [
    {
     "data": {
      "text/html": [
       "<div>\n",
       "<style scoped>\n",
       "    .dataframe tbody tr th:only-of-type {\n",
       "        vertical-align: middle;\n",
       "    }\n",
       "\n",
       "    .dataframe tbody tr th {\n",
       "        vertical-align: top;\n",
       "    }\n",
       "\n",
       "    .dataframe thead th {\n",
       "        text-align: right;\n",
       "    }\n",
       "</style>\n",
       "<table border=\"1\" class=\"dataframe\">\n",
       "  <thead>\n",
       "    <tr style=\"text-align: right;\">\n",
       "      <th></th>\n",
       "      <th>Book Name</th>\n",
       "      <th>Copies Sold in UK</th>\n",
       "      <th>Copies Sold WorldWide</th>\n",
       "      <th>Publish Date</th>\n",
       "      <th>Publish Month</th>\n",
       "      <th>Publish Year</th>\n",
       "      <th>Pages</th>\n",
       "      <th>Words</th>\n",
       "      <th>Audiobook</th>\n",
       "      <th>Total Awards Won</th>\n",
       "      <th>Copies Sold in Countries Other Than UK</th>\n",
       "      <th>% of Copies that Were Not Sold in UK</th>\n",
       "    </tr>\n",
       "  </thead>\n",
       "  <tbody>\n",
       "    <tr>\n",
       "      <th>0</th>\n",
       "      <td>Harry Potter and the Sorcerer’s Stone</td>\n",
       "      <td>4.2</td>\n",
       "      <td>120</td>\n",
       "      <td>26</td>\n",
       "      <td>June</td>\n",
       "      <td>1997</td>\n",
       "      <td>223</td>\n",
       "      <td>76,944</td>\n",
       "      <td>9 hrs and 33 mins</td>\n",
       "      <td>8</td>\n",
       "      <td>115.8</td>\n",
       "      <td>96.500000</td>\n",
       "    </tr>\n",
       "    <tr>\n",
       "      <th>1</th>\n",
       "      <td>Harry Potter and the Chamber of Secrets</td>\n",
       "      <td>3.5</td>\n",
       "      <td>77</td>\n",
       "      <td>2</td>\n",
       "      <td>July</td>\n",
       "      <td>1998</td>\n",
       "      <td>251</td>\n",
       "      <td>85,141</td>\n",
       "      <td>11 hrs and 5 mins</td>\n",
       "      <td>5</td>\n",
       "      <td>73.5</td>\n",
       "      <td>95.454545</td>\n",
       "    </tr>\n",
       "    <tr>\n",
       "      <th>2</th>\n",
       "      <td>Harry Potter and the Prisoner of Azkaban</td>\n",
       "      <td>3.4</td>\n",
       "      <td>65</td>\n",
       "      <td>8</td>\n",
       "      <td>July</td>\n",
       "      <td>1999</td>\n",
       "      <td>317</td>\n",
       "      <td>107,253</td>\n",
       "      <td>13 hrs and 10 mins</td>\n",
       "      <td>3</td>\n",
       "      <td>61.6</td>\n",
       "      <td>94.769231</td>\n",
       "    </tr>\n",
       "    <tr>\n",
       "      <th>3</th>\n",
       "      <td>Harry Potter and the Goblet of Fire</td>\n",
       "      <td>3.6</td>\n",
       "      <td>65</td>\n",
       "      <td>8</td>\n",
       "      <td>July</td>\n",
       "      <td>2000</td>\n",
       "      <td>636</td>\n",
       "      <td>190,637</td>\n",
       "      <td>22 hrs and 17 mins</td>\n",
       "      <td>1</td>\n",
       "      <td>61.4</td>\n",
       "      <td>94.461538</td>\n",
       "    </tr>\n",
       "    <tr>\n",
       "      <th>4</th>\n",
       "      <td>Harry Potter and the Order of the Phoenix</td>\n",
       "      <td>4.2</td>\n",
       "      <td>65</td>\n",
       "      <td>21</td>\n",
       "      <td>June</td>\n",
       "      <td>2003</td>\n",
       "      <td>766</td>\n",
       "      <td>257,045</td>\n",
       "      <td>30 hrs and 18 mins</td>\n",
       "      <td>1</td>\n",
       "      <td>60.8</td>\n",
       "      <td>93.538462</td>\n",
       "    </tr>\n",
       "    <tr>\n",
       "      <th>5</th>\n",
       "      <td>Harry Potter and the Half-blood Prince</td>\n",
       "      <td>4.1</td>\n",
       "      <td>65</td>\n",
       "      <td>16</td>\n",
       "      <td>July</td>\n",
       "      <td>2005</td>\n",
       "      <td>607</td>\n",
       "      <td>168,923</td>\n",
       "      <td>21 hrs and 27 mins</td>\n",
       "      <td>1</td>\n",
       "      <td>60.9</td>\n",
       "      <td>93.692308</td>\n",
       "    </tr>\n",
       "    <tr>\n",
       "      <th>6</th>\n",
       "      <td>Harry Potter and the Deathly Hallows</td>\n",
       "      <td>4.5</td>\n",
       "      <td>65</td>\n",
       "      <td>21</td>\n",
       "      <td>July</td>\n",
       "      <td>2007</td>\n",
       "      <td>607</td>\n",
       "      <td>198,227</td>\n",
       "      <td>24 hrs</td>\n",
       "      <td>0</td>\n",
       "      <td>60.5</td>\n",
       "      <td>93.076923</td>\n",
       "    </tr>\n",
       "  </tbody>\n",
       "</table>\n",
       "</div>"
      ],
      "text/plain": [
       "                                   Book Name  Copies Sold in UK  \\\n",
       "0      Harry Potter and the Sorcerer’s Stone                4.2   \n",
       "1    Harry Potter and the Chamber of Secrets                3.5   \n",
       "2   Harry Potter and the Prisoner of Azkaban                3.4   \n",
       "3        Harry Potter and the Goblet of Fire                3.6   \n",
       "4  Harry Potter and the Order of the Phoenix                4.2   \n",
       "5     Harry Potter and the Half-blood Prince                4.1   \n",
       "6       Harry Potter and the Deathly Hallows                4.5   \n",
       "\n",
       "   Copies Sold WorldWide  Publish Date Publish Month  Publish Year  Pages  \\\n",
       "0                    120            26          June          1997    223   \n",
       "1                     77             2          July          1998    251   \n",
       "2                     65             8          July          1999    317   \n",
       "3                     65             8          July          2000    636   \n",
       "4                     65            21          June          2003    766   \n",
       "5                     65            16          July          2005    607   \n",
       "6                     65            21          July          2007    607   \n",
       "\n",
       "     Words           Audiobook  Total Awards Won  \\\n",
       "0   76,944   9 hrs and 33 mins                 8   \n",
       "1   85,141   11 hrs and 5 mins                 5   \n",
       "2  107,253  13 hrs and 10 mins                 3   \n",
       "3  190,637  22 hrs and 17 mins                 1   \n",
       "4  257,045  30 hrs and 18 mins                 1   \n",
       "5  168,923  21 hrs and 27 mins                 1   \n",
       "6  198,227              24 hrs                 0   \n",
       "\n",
       "   Copies Sold in Countries Other Than UK  \\\n",
       "0                                   115.8   \n",
       "1                                    73.5   \n",
       "2                                    61.6   \n",
       "3                                    61.4   \n",
       "4                                    60.8   \n",
       "5                                    60.9   \n",
       "6                                    60.5   \n",
       "\n",
       "   % of Copies that Were Not Sold in UK  \n",
       "0                             96.500000  \n",
       "1                             95.454545  \n",
       "2                             94.769231  \n",
       "3                             94.461538  \n",
       "4                             93.538462  \n",
       "5                             93.692308  \n",
       "6                             93.076923  "
      ]
     },
     "execution_count": 13,
     "metadata": {},
     "output_type": "execute_result"
    }
   ],
   "source": [
    "# step 3\n",
    "\n",
    "df['Copies Sold in Countries Other Than UK'] / df['Copies Sold WorldWide'] * 100\n",
    "\n",
    "df['% of Copies that Were Not Sold in UK'] = df['Copies Sold in Countries Other Than UK'] / df['Copies Sold WorldWide'] * 100\n",
    "\n",
    "df"
   ]
  },
  {
   "cell_type": "markdown",
   "metadata": {},
   "source": [
    "Outputs here look good!"
   ]
  },
  {
   "cell_type": "markdown",
   "metadata": {},
   "source": [
    "##### Objective 3"
   ]
  },
  {
   "cell_type": "markdown",
   "metadata": {},
   "source": [
    "---"
   ]
  },
  {
   "cell_type": "code",
   "execution_count": 18,
   "metadata": {},
   "outputs": [
    {
     "data": {
      "image/png": "[encoded data removed]",
      "text/plain": [
       "<Figure size 640x480 with 1 Axes>"
      ]
     },
     "metadata": {},
     "output_type": "display_data"
    }
   ],
   "source": [
    "# step 1 - 3, had to do all the steps in one code box or it wouldn't work\n",
    "\n",
    "sns.barplot(x='Book Name', y='Total Awards Won', data=df)\n",
    "\n",
    "plt.xticks(rotation=90)\n",
    "\n",
    "plt.show()"
   ]
  },
  {
   "cell_type": "markdown",
   "metadata": {},
   "source": [
    "Cool! Also, try using rotation=45, I find that's is easier to read (see below)."
   ]
  },
  {
   "cell_type": "code",
   "execution_count": 8,
   "metadata": {},
   "outputs": [
    {
     "name": "stderr",
     "output_type": "stream",
     "text": [
      "/Users/saisharankaduwa/mambaforge/envs/ncil/lib/python3.11/site-packages/seaborn/_oldcore.py:1498: FutureWarning: is_categorical_dtype is deprecated and will be removed in a future version. Use isinstance(dtype, CategoricalDtype) instead\n",
      "  if pd.api.types.is_categorical_dtype(vector):\n",
      "/Users/saisharankaduwa/mambaforge/envs/ncil/lib/python3.11/site-packages/seaborn/_oldcore.py:1498: FutureWarning: is_categorical_dtype is deprecated and will be removed in a future version. Use isinstance(dtype, CategoricalDtype) instead\n",
      "  if pd.api.types.is_categorical_dtype(vector):\n",
      "/Users/saisharankaduwa/mambaforge/envs/ncil/lib/python3.11/site-packages/seaborn/_oldcore.py:1498: FutureWarning: is_categorical_dtype is deprecated and will be removed in a future version. Use isinstance(dtype, CategoricalDtype) instead\n",
      "  if pd.api.types.is_categorical_dtype(vector):\n"
     ]
    },
    {
     "data": {
      "image/png": "[encoded data removed]",
      "text/plain": [
       "<Figure size 640x480 with 1 Axes>"
      ]
     },
     "metadata": {},
     "output_type": "display_data"
    }
   ],
   "source": [
    "#Visualize book names and total awards won\n",
    "\n",
    "sns.barplot(x='Book Name', y='Total Awards Won', data=df)\n",
    "\n",
    "plt.xticks(rotation=45)\n",
    "\n",
    "plt.show()"
   ]
  },
  {
   "cell_type": "markdown",
   "metadata": {},
   "source": [
    "### Conclusions "
   ]
  },
  {
   "cell_type": "markdown",
   "metadata": {},
   "source": [
    "##### Objective 1\n",
    "- The correlation coefficient is -0.648. This means the relationship is a negative one (as x gets bigger, y gets smaller, or vice versa), and the relationship is moderate to strong, meaning the two variables are related but there could be other factors affecting them as well. This would suggest then that as the amount of pages gets larger, the amount of copies sold would get smaller. The graph can be used to visualize this, and the line of best fit (which is the correlation coefficient) could be used for people/publishing companies to estimate what the amount of copies sold will be based on the number of pages. For example, you could estimate that if the book is 500 pages long you would sell approximately 75 million copies worldwide, according to the correlation coefficient. \n",
    "\n",
    "##### Objective 2\n",
    "\n",
    "- The numbers in my new column 'Copies Sold in Countries Other Than UK' are the amount (by millions) of copies each book sold in every country in the world other than the UK. I then calculated how much of a percentage that was of total copies sold. This could be used by the author/fans to visualize how much of the fanbase resides outside the UK which could be interesting information for them, and could help the author better tailor their content for their fan base. This info could also be used by publishing companies to plan how many copies to print and ship for countries other than the UK. \n",
    "\n",
    "##### Objective 3 \n",
    "\n",
    "- The graph shows the amount of awards won for each book in a more visually appealing/digestible way and allows you to clearly see the trend of the data. It shows a initial steep decline in awards won, and then levels off. This would be interesting for the author to see, with this example here possibily motivating the author to change up their writing in order to win more awards. This would also be interesting for the fans of the books or book critics. "
   ]
  },
  {
   "cell_type": "markdown",
   "metadata": {},
   "source": []
  },
  {
   "cell_type": "markdown",
   "metadata": {},
   "source": [
    "^Would want to remove the markdown cell here (don't want extraneous code cells for style purposes). Also, great job considering the usefulness of these results!"
   ]
  },
  {
   "cell_type": "markdown",
   "metadata": {},
   "source": []
  }
 ],
 "metadata": {
  "kernelspec": {
   "display_name": "base",
   "language": "python",
   "name": "python3"
  },
  "language_info": {
   "codemirror_mode": {
    "name": "ipython",
    "version": 3
   },
   "file_extension": ".py",
   "mimetype": "text/x-python",
   "name": "python",
   "nbconvert_exporter": "python",
   "pygments_lexer": "ipython3",
   "version": "3.11.5"
  },
  "orig_nbformat": 4
 },
 "nbformat": 4,
 "nbformat_minor": 2
}
